{
 "cells": [
  {
   "cell_type": "code",
   "execution_count": 2,
   "metadata": {},
   "outputs": [
    {
     "name": "stdout",
     "output_type": "stream",
     "text": [
      "Count character 'e' in the input 'geeksforgeeks': 4\n",
      "Count character '3' in the input 'abccdefgaa': 0\n"
     ]
    }
   ],
   "source": [
    "#problem1\n",
    "def count_occurrences(input_string, target_character):\n",
    "    count = 0\n",
    "    for char in input_string:\n",
    "        if char == target_character:\n",
    "            count += 1\n",
    "    return count\n",
    "\n",
    "# Example 1\n",
    "input_string_1 = \"geeksforgeeks\"\n",
    "target_character_1 = 'e'\n",
    "result_1 = count_occurrences(input_string_1, target_character_1)\n",
    "print(f\"Count character '{target_character_1}' in the input '{input_string_1}': {result_1}\")\n",
    "\n",
    "# Example 2\n",
    "input_string_2 = \"abccdefgaa\"\n",
    "target_character_2 = '3'\n",
    "result_2 = count_occurrences(input_string_2, target_character_2)\n",
    "print(f\"Count character '{target_character_2}' in the input '{input_string_2}': {result_2}\")\n"
   ]
  },
  {
   "cell_type": "code",
   "execution_count": 3,
   "metadata": {},
   "outputs": [
    {
     "name": "stdout",
     "output_type": "stream",
     "text": [
      "Input: 'anna', Output: True\n",
      "Input: 'India', Output: False\n"
     ]
    }
   ],
   "source": [
    "#problem2\n",
    "def is_palindrome(input_string):\n",
    "    # Convert the string to lowercase to handle case-insensitive palindromes\n",
    "    input_string = input_string.lower()\n",
    "    \n",
    "    # Remove spaces and punctuation from the string\n",
    "    input_string = ''.join(char for char in input_string if char.isalnum())\n",
    "    \n",
    "    # Check if the reversed string is the same as the original string\n",
    "    return input_string == input_string[::-1]\n",
    "\n",
    "# Example 1\n",
    "input_string_1 = \"anna\"\n",
    "result_1 = is_palindrome(input_string_1)\n",
    "print(f\"Input: '{input_string_1}', Output: {result_1}\")\n",
    "\n",
    "# Example 2\n",
    "input_string_2 = \"India\"\n",
    "result_2 = is_palindrome(input_string_2)\n",
    "print(f\"Input: '{input_string_2}', Output: {result_2}\")\n"
   ]
  },
  {
   "cell_type": "code",
   "execution_count": 4,
   "metadata": {},
   "outputs": [
    {
     "name": "stdout",
     "output_type": "stream",
     "text": [
      "Input: [1, 2, 3, 4, 5]\n",
      "Maximum is: 5\n",
      "Minimum is: 1\n",
      "\n",
      "Input: [5, 3, 7, 4, 2]\n",
      "Maximum is: 7\n",
      "Minimum is: 2\n"
     ]
    }
   ],
   "source": [
    "#problem3\n",
    "def find_max_min(arr):\n",
    "    if len(arr) == 0:\n",
    "        return None, None\n",
    "    max_num = min_num = arr[0]\n",
    "    for num in arr:\n",
    "        if num > max_num:\n",
    "            max_num = num\n",
    "        if num < min_num:\n",
    "            min_num = num\n",
    "    return max_num, min_num\n",
    "\n",
    "# Example 1\n",
    "arr1 = [1, 2, 3, 4, 5]\n",
    "max_num1, min_num1 = find_max_min(arr1)\n",
    "print(f\"Input: {arr1}\")\n",
    "print(f\"Maximum is: {max_num1}\")\n",
    "print(f\"Minimum is: {min_num1}\")\n",
    "\n",
    "# Example 2\n",
    "arr2 = [5, 3, 7, 4, 2]\n",
    "max_num2, min_num2 = find_max_min(arr2)\n",
    "print(f\"\\nInput: {arr2}\")\n",
    "print(f\"Maximum is: {max_num2}\")\n",
    "print(f\"Minimum is: {min_num2}\")\n"
   ]
  },
  {
   "cell_type": "code",
   "execution_count": 5,
   "metadata": {},
   "outputs": [
    {
     "name": "stdout",
     "output_type": "stream",
     "text": [
      "\n",
      "Strings after swap: a = World and b = Hello\n"
     ]
    }
   ],
   "source": [
    "#problem4\n",
    "def swap_strings(a, b):\n",
    "    a, b = b, a\n",
    "    return a, b\n",
    "\n",
    "# Example\n",
    "a = \"Hello\"\n",
    "b = \"World\"\n",
    "a, b = swap_strings(a, b)\n",
    "print(f\"\\nStrings after swap: a = {a} and b = {b}\")\n"
   ]
  },
  {
   "cell_type": "code",
   "execution_count": 6,
   "metadata": {},
   "outputs": [
    {
     "name": "stdout",
     "output_type": "stream",
     "text": [
      "\n",
      "Numbers after swap: a = 50 and b = 10\n"
     ]
    }
   ],
   "source": [
    "#problem5\n",
    "def swap_numbers(a, b):\n",
    "    a = a + b\n",
    "    b = a - b\n",
    "    a = a - b\n",
    "    return a, b\n",
    "\n",
    "# Example\n",
    "a = 10\n",
    "b = 50\n",
    "a, b = swap_numbers(a, b)\n",
    "print(f\"\\nNumbers after swap: a = {a} and b = {b}\")\n"
   ]
  }
 ],
 "metadata": {
  "kernelspec": {
   "display_name": "Python 3",
   "language": "python",
   "name": "python3"
  },
  "language_info": {
   "codemirror_mode": {
    "name": "ipython",
    "version": 3
   },
   "file_extension": ".py",
   "mimetype": "text/x-python",
   "name": "python",
   "nbconvert_exporter": "python",
   "pygments_lexer": "ipython3",
   "version": "3.11.1"
  },
  "orig_nbformat": 4
 },
 "nbformat": 4,
 "nbformat_minor": 2
}
